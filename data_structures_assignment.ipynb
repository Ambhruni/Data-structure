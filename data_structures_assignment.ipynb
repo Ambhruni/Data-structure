{
  "nbformat": 4,
  "nbformat_minor": 0,
  "metadata": {
    "colab": {
      "provenance": []
    },
    "kernelspec": {
      "name": "python3",
      "display_name": "Python 3"
    },
    "language_info": {
      "name": "python"
    }
  },
  "cells": [
    {
      "cell_type": "markdown",
      "source": [
        "#Data Types and Structures Questions"
      ],
      "metadata": {
        "id": "wiDCmUF9nlDE"
      }
    },
    {
      "cell_type": "markdown",
      "source": [
        "1.What are data structures, and why are they important?"
      ],
      "metadata": {
        "id": "y8QEgBQDnoSB"
      }
    },
    {
      "cell_type": "markdown",
      "source": [
        "->A data structure is a systematic way of organizing, managing, and storing data so that it can be used efficiently.\n",
        "\n",
        "->They are important because the right data structure:\n",
        "\n",
        "*Improves efficiency of algorithms\n",
        "\n",
        "*Helps in faster access, insertion, deletion, and searching of data.\n",
        "\n",
        "*Enables solving complex problems effectively"
      ],
      "metadata": {
        "id": "1t0faE5Lntu4"
      }
    },
    {
      "cell_type": "markdown",
      "source": [
        "2. Explain the difference between mutable and immutable data types with examplesP"
      ],
      "metadata": {
        "id": "EPkpNnjSsQeu"
      }
    },
    {
      "cell_type": "markdown",
      "source": [
        "->mutable data types:\n",
        "*Mutable objects can be changed after they are created.\n",
        "\n",
        "*You can add, remove, or update their elements without creating a new object in memory.\n",
        "\n",
        "*Examples: lists, dictionaries, sets.\n",
        "\n",
        "->immutable data types:\n",
        "\n",
        "->Immutable objects cannot be modified once created. Any change creates a new object.\n",
        "\n",
        "->They have fixed values\n",
        "\n",
        "->Examples: strings, tuples, integers.\n",
        "\n"
      ],
      "metadata": {
        "id": "U7GRsI1RsW_U"
      }
    },
    {
      "cell_type": "markdown",
      "source": [
        "3.What are the main differences between lists and tuples in Python?"
      ],
      "metadata": {
        "id": "ok_W22FquJX_"
      }
    },
    {
      "cell_type": "markdown",
      "source": [
        "->List\n",
        "*Mutable – can be modified after creation  \n",
        "*Lists are given brackets [ ].\n",
        "\n",
        "->Tuples\n",
        "*immuutable – cannot be  modified after creation\n",
        "\n",
        "*parentheses() are used to define"
      ],
      "metadata": {
        "id": "G3SiL8mfueKe"
      }
    },
    {
      "cell_type": "markdown",
      "source": [
        "4.Describe how dictionaries store data?"
      ],
      "metadata": {
        "id": "AFWOaI8QvesN"
      }
    },
    {
      "cell_type": "markdown",
      "source": [
        "->Dictionaries in Python store data as key–value pairs.\n",
        "\n",
        "->Internally, they use a hash table data structure.\n",
        "\n",
        "->Each key is passed through a hash function, which generates an index in the table.\n"
      ],
      "metadata": {
        "id": "RVt5rT2fvkVs"
      }
    },
    {
      "cell_type": "markdown",
      "source": [
        "5.Why might you use a set instead of a list in Python?"
      ],
      "metadata": {
        "id": "VmuD33_NwFdi"
      }
    },
    {
      "cell_type": "markdown",
      "source": [
        "->A set is an unordered collection of elements where duplicates are not allowed.\n",
        "\n",
        "->Sets are useful when you want to store only unique values"
      ],
      "metadata": {
        "id": "itvhKRRNwRys"
      }
    },
    {
      "cell_type": "markdown",
      "source": [
        "6.What is a string in Python, and how is it different from a list?\n"
      ],
      "metadata": {
        "id": "zjb3DhXuwmP1"
      }
    },
    {
      "cell_type": "markdown",
      "source": [
        "->A string is a sequence of characters enclosed in quotes (' ' or \" \").\n",
        "\n",
        "->Strings are immutable, meaning once created, they cannot be modified.\n",
        "\n",
        "->Lists are sequences too, but they are mutable\n",
        "\n",
        "->while Strings can store only characters,and lists can store different data types"
      ],
      "metadata": {
        "id": "P-KBlXtQwqbm"
      }
    },
    {
      "cell_type": "markdown",
      "source": [
        "7.How do tuples ensure data integrity in Python?"
      ],
      "metadata": {
        "id": "2Da_wQpgxZJf"
      }
    },
    {
      "cell_type": "markdown",
      "source": [
        "->Tuples are immutable, their elements cannot be changed, added, or removed.\n",
        "\n",
        "->This immutability prevents modifications of the data,keeping its consistency and reliability."
      ],
      "metadata": {
        "id": "4rIjgyuLxe98"
      }
    },
    {
      "cell_type": "markdown",
      "source": [
        "8.What is a hash table, and how does it relate to dictionaries in Python?"
      ],
      "metadata": {
        "id": "ADaIi5x6x5xw"
      }
    },
    {
      "cell_type": "markdown",
      "source": [
        "->A hash table is a data structure that stores key-value pairs and uses a hash function to convert keys into in, allowing very fast data access.\n",
        "\n",
        "-> dictionaries uses hash table where keys are hashed, and the value is stored at the index given by the hash."
      ],
      "metadata": {
        "id": "Qx5L7bOKyAW6"
      }
    },
    {
      "cell_type": "markdown",
      "source": [
        "9.Can lists contain different data types in Python?"
      ],
      "metadata": {
        "id": "ozL98SC9yxZf"
      }
    },
    {
      "cell_type": "markdown",
      "source": [
        "->Yes, Python lists can contain different data types within the same list. For example, a list can have integers, strings, floats"
      ],
      "metadata": {
        "id": "It9bY7U2y9Wd"
      }
    },
    {
      "cell_type": "markdown",
      "source": [
        "10.Explain why strings are immutable in Python?"
      ],
      "metadata": {
        "id": "6PMyrfgzzLYz"
      }
    },
    {
      "cell_type": "markdown",
      "source": [
        "->Strings in Python are immutable to ensure security, efficiency, and consistency and prevents causing bugs"
      ],
      "metadata": {
        "id": "ZDdBgog2zWla"
      }
    },
    {
      "cell_type": "markdown",
      "source": [
        "11. What advantages do dictionaries offer over lists for certain tasks?"
      ],
      "metadata": {
        "id": "APA_pCfqzito"
      }
    },
    {
      "cell_type": "markdown",
      "source": [
        "->Dictionaries let us find things very quickly by using a key, like a name or ID. With lists,we will  have to look through each item one by one, which can take longer time"
      ],
      "metadata": {
        "id": "PjkvCa5Kz8CH"
      }
    },
    {
      "cell_type": "markdown",
      "source": [
        "13.How do sets handle duplicate values in Python?"
      ],
      "metadata": {
        "id": "LCvoq3jF0cjZ"
      }
    },
    {
      "cell_type": "markdown",
      "source": [
        "->Sets automatically remove duplicate values. When we add elements to a set, any repeated value will be  ignored,"
      ],
      "metadata": {
        "id": "tvQ8UsLC0oFh"
      }
    },
    {
      "cell_type": "markdown",
      "source": [
        "14.How does the “in” keyword work differently for lists and dictionaries?"
      ],
      "metadata": {
        "id": "bU21GmSx06sV"
      }
    },
    {
      "cell_type": "markdown",
      "source": [
        "->For lists, the “in” keyword checks if the value is availabe in the list\n",
        "\n",
        "->For dictionaries, it checks if the key exists"
      ],
      "metadata": {
        "id": "WYQLLbnT1LX3"
      }
    },
    {
      "cell_type": "markdown",
      "source": [
        "15.Can you modify the elements of a tuple? Explain why or why not?"
      ],
      "metadata": {
        "id": "9iBqj1Ks1WQU"
      }
    },
    {
      "cell_type": "markdown",
      "source": [
        "->No,tuples  cannot be modifed because tuples are immutable"
      ],
      "metadata": {
        "id": "_6b3wXXd1cYR"
      }
    },
    {
      "cell_type": "markdown",
      "source": [
        "16.What is a nested dictionary, and give an example of its use case?"
      ],
      "metadata": {
        "id": "vo85JDY21tz1"
      }
    },
    {
      "cell_type": "markdown",
      "source": [
        "->A nested dictionary is a dictionary where the values themselves are dictionaries."
      ],
      "metadata": {
        "id": "tVLm2K2517wF"
      }
    },
    {
      "cell_type": "markdown",
      "source": [
        "17.Describe the time complexity of accessing elements in a dictionary?"
      ],
      "metadata": {
        "id": "pRxpSmuG2T43"
      }
    },
    {
      "cell_type": "markdown",
      "source": [
        "->Accessing an element in a dictionary by its key is very fast,and it takes less time"
      ],
      "metadata": {
        "id": "evTj6jzn2pAt"
      }
    },
    {
      "cell_type": "markdown",
      "source": [
        " 18.In what situations are lists preferred over dictionaries?"
      ],
      "metadata": {
        "id": "cY4Qyw_420yS"
      }
    },
    {
      "cell_type": "markdown",
      "source": [
        "->List are used when we need to store the item in specific order\n",
        "\n",
        "->list are also used when we need to keep the duplicate values in our item"
      ],
      "metadata": {
        "id": "zadaoaaK27xA"
      }
    },
    {
      "cell_type": "markdown",
      "source": [
        "19.Why are dictionaries considered unordered, and how does that affect data retrieva?"
      ],
      "metadata": {
        "id": "_ciwpEfd3ikC"
      }
    },
    {
      "cell_type": "markdown",
      "source": [
        "->Dictonies doesnt stores the data in order and show up the item in unorderd form"
      ],
      "metadata": {
        "id": "8W48liS63tHo"
      }
    },
    {
      "cell_type": "markdown",
      "source": [
        "20.Explain the difference between a list and a dictionary in terms of data retrieval?"
      ],
      "metadata": {
        "id": "0fQV0xKW4Uud"
      }
    },
    {
      "cell_type": "markdown",
      "source": [
        "->In a list, we retrieve data by its position (index).\n",
        "\n",
        "->while in dictionary we retrieve data by a key (like a name or ID)."
      ],
      "metadata": {
        "id": "HY-3_lBE4fsA"
      }
    },
    {
      "cell_type": "markdown",
      "source": [
        "#Practical Questions"
      ],
      "metadata": {
        "id": "sy034pqjhEUF"
      }
    },
    {
      "cell_type": "markdown",
      "source": [
        "1.Write a code to create a string with your name and print it?"
      ],
      "metadata": {
        "id": "mHzSAOidhHXs"
      }
    },
    {
      "cell_type": "code",
      "source": [
        "name = \"Ambhruni Yogesh Joshi\"\n",
        "print(name)"
      ],
      "metadata": {
        "colab": {
          "base_uri": "https://localhost:8080/"
        },
        "id": "SagoiUCehQIE",
        "outputId": "c7adaece-662f-4512-88a0-a85b0380cee0"
      },
      "execution_count": null,
      "outputs": [
        {
          "output_type": "stream",
          "name": "stdout",
          "text": [
            "Ambhruni Yogesh Joshi\n"
          ]
        }
      ]
    },
    {
      "cell_type": "markdown",
      "source": [
        "2.Write a code to find the length of the string \"Hello World\"?"
      ],
      "metadata": {
        "id": "JYepFyc6hijE"
      }
    },
    {
      "cell_type": "code",
      "source": [
        "text = \"Hello World\"\n",
        "length = len(\"hello world\")\n",
        "print(length)"
      ],
      "metadata": {
        "colab": {
          "base_uri": "https://localhost:8080/"
        },
        "id": "l_ZknZcVhpN_",
        "outputId": "271ec489-e838-4d93-859c-22494b8d04e9"
      },
      "execution_count": null,
      "outputs": [
        {
          "output_type": "stream",
          "name": "stdout",
          "text": [
            "11\n"
          ]
        }
      ]
    },
    {
      "cell_type": "markdown",
      "source": [
        "3.Write a code to slice the first 3 characters from the string \"Python Programming\"?"
      ],
      "metadata": {
        "id": "0fTCjGRwiFaE"
      }
    },
    {
      "cell_type": "code",
      "source": [
        "text = \"Python Programming\"\n",
        "first_three_chars = text[:3]\n",
        "print(first_three_chars)"
      ],
      "metadata": {
        "colab": {
          "base_uri": "https://localhost:8080/"
        },
        "id": "jkcbJ0QniKj9",
        "outputId": "f3e83733-225e-459c-e7a7-a565637994ed"
      },
      "execution_count": null,
      "outputs": [
        {
          "output_type": "stream",
          "name": "stdout",
          "text": [
            "Pyt\n"
          ]
        }
      ]
    },
    {
      "cell_type": "markdown",
      "source": [
        "4.Write a code to convert the string \"hello\" to uppercase?"
      ],
      "metadata": {
        "id": "Y8S44d05ibC1"
      }
    },
    {
      "cell_type": "code",
      "source": [
        "text = \"hello\"\n",
        "uppercase_text = text.upper()\n",
        "print(uppercase_text)"
      ],
      "metadata": {
        "colab": {
          "base_uri": "https://localhost:8080/"
        },
        "id": "kXbD1sTqif2t",
        "outputId": "fc6bfeca-16e4-482d-999a-b342bc5db0a0"
      },
      "execution_count": null,
      "outputs": [
        {
          "output_type": "stream",
          "name": "stdout",
          "text": [
            "HELLO\n"
          ]
        }
      ]
    },
    {
      "cell_type": "markdown",
      "source": [
        "5.Write a code to replace the word \"apple\" with \"orange\" in the string \"I like apple\"?"
      ],
      "metadata": {
        "id": "Eu3JUj6Oioas"
      }
    },
    {
      "cell_type": "code",
      "source": [
        "word = \"I like apple\"\n",
        "new_word = word.replace(\"apple\", \"orange\")\n",
        "print(new_word)"
      ],
      "metadata": {
        "colab": {
          "base_uri": "https://localhost:8080/"
        },
        "id": "iGsHPailiu5D",
        "outputId": "78002872-a672-439e-9753-39c00b9dc815"
      },
      "execution_count": null,
      "outputs": [
        {
          "output_type": "stream",
          "name": "stdout",
          "text": [
            "I like orange\n"
          ]
        }
      ]
    },
    {
      "cell_type": "markdown",
      "source": [
        "6.Write a code to create a list with numbers 1 to 5 and print it?"
      ],
      "metadata": {
        "id": "_4HE_C4vi4pU"
      }
    },
    {
      "cell_type": "code",
      "source": [
        "my_list = [1, 2, 3, 4, 5]\n",
        "print(my_list)"
      ],
      "metadata": {
        "colab": {
          "base_uri": "https://localhost:8080/"
        },
        "id": "lZKhK1yEi85e",
        "outputId": "e86d9ab1-d727-4599-c8d9-d37731b1d504"
      },
      "execution_count": null,
      "outputs": [
        {
          "output_type": "stream",
          "name": "stdout",
          "text": [
            "[1, 2, 3, 4, 5]\n"
          ]
        }
      ]
    },
    {
      "cell_type": "markdown",
      "source": [
        "7.Write a code to append the number 10 to the list [1, 2, 3, 4]?"
      ],
      "metadata": {
        "id": "ElRorQOblcKN"
      }
    },
    {
      "cell_type": "code",
      "source": [
        "my_list = [1, 2, 3, 4]\n",
        "my_list.append(10)\n",
        "print(my_list)"
      ],
      "metadata": {
        "colab": {
          "base_uri": "https://localhost:8080/"
        },
        "id": "eRqBoJsdljWz",
        "outputId": "400613a4-c7a2-4279-f05f-796c94645e0a"
      },
      "execution_count": null,
      "outputs": [
        {
          "output_type": "stream",
          "name": "stdout",
          "text": [
            "[1, 2, 3, 4, 10]\n"
          ]
        }
      ]
    },
    {
      "cell_type": "markdown",
      "source": [
        "8.Write a code to remove the number 3 from the list [1, 2, 3, 4, 5]?"
      ],
      "metadata": {
        "id": "NqK5pb72l8_E"
      }
    },
    {
      "cell_type": "code",
      "source": [
        "my_list = [1, 2, 3, 4, 5]\n",
        "my_list.remove(3)\n",
        "print(my_list)"
      ],
      "metadata": {
        "colab": {
          "base_uri": "https://localhost:8080/"
        },
        "id": "0yVoGVIBmBrT",
        "outputId": "ec2a0def-23ac-4018-c82e-aae5adeae123"
      },
      "execution_count": null,
      "outputs": [
        {
          "output_type": "stream",
          "name": "stdout",
          "text": [
            "[1, 2, 4, 5]\n"
          ]
        }
      ]
    },
    {
      "cell_type": "markdown",
      "source": [
        "9.Write a code to access the second element in the list ['a', 'b', 'c', 'd']?"
      ],
      "metadata": {
        "id": "7dmFLc_ZmMAU"
      }
    },
    {
      "cell_type": "code",
      "source": [
        "my_list = ['a', 'b', 'c', 'd']\n",
        "second_element = my_list[1]\n",
        "print(second_element)"
      ],
      "metadata": {
        "colab": {
          "base_uri": "https://localhost:8080/"
        },
        "id": "84ucSfnbmRa8",
        "outputId": "abfeafc4-1016-4970-e499-079f724f8f96"
      },
      "execution_count": null,
      "outputs": [
        {
          "output_type": "stream",
          "name": "stdout",
          "text": [
            "b\n"
          ]
        }
      ]
    },
    {
      "cell_type": "markdown",
      "source": [
        "10.Write a code to reverse the list [10, 20, 30, 40, 50]?"
      ],
      "metadata": {
        "id": "RcNcIMmxm1_d"
      }
    },
    {
      "cell_type": "code",
      "source": [
        "my_list = [10, 20, 30, 40, 50]\n",
        "my_list.reverse()\n",
        "print(my_list)"
      ],
      "metadata": {
        "colab": {
          "base_uri": "https://localhost:8080/"
        },
        "id": "aMB3n6iInLFb",
        "outputId": "34524193-e2f7-4712-d3b4-fcdc7aa0cd62"
      },
      "execution_count": null,
      "outputs": [
        {
          "output_type": "stream",
          "name": "stdout",
          "text": [
            "[50, 40, 30, 20, 10]\n"
          ]
        }
      ]
    },
    {
      "cell_type": "markdown",
      "source": [
        "11. Write a code to create a tuple with the elements 100, 200, 300 and print it?"
      ],
      "metadata": {
        "id": "RIHhOlZwnTcs"
      }
    },
    {
      "cell_type": "code",
      "source": [
        "my_tuple = (100, 200, 300)\n",
        "print(my_tuple)"
      ],
      "metadata": {
        "colab": {
          "base_uri": "https://localhost:8080/"
        },
        "id": "C6dqxuZinZTE",
        "outputId": "355983d6-c444-4b98-bb9c-6af16599c2dd"
      },
      "execution_count": null,
      "outputs": [
        {
          "output_type": "stream",
          "name": "stdout",
          "text": [
            "(100, 200, 300)\n"
          ]
        }
      ]
    },
    {
      "cell_type": "markdown",
      "source": [
        "12. Write a code to access the second-to-last element of the tuple ('red', 'green', 'blue', 'yellow')?"
      ],
      "metadata": {
        "id": "SGzzYC9Snhcn"
      }
    },
    {
      "cell_type": "code",
      "source": [
        "tuple = ('red', 'green', 'blue', 'yellow')\n",
        "second_to_last_element = tuple[-2]\n",
        "print(second_to_last_element)"
      ],
      "metadata": {
        "colab": {
          "base_uri": "https://localhost:8080/"
        },
        "id": "X4dh-1brnnkV",
        "outputId": "f186d924-c82e-43b0-a55d-48f73414002d"
      },
      "execution_count": null,
      "outputs": [
        {
          "output_type": "stream",
          "name": "stdout",
          "text": [
            "blue\n"
          ]
        }
      ]
    },
    {
      "cell_type": "markdown",
      "source": [
        "13. Write a code to find the minimum number in the tuple (10, 20, 5, 15)?"
      ],
      "metadata": {
        "id": "D5XNfVPooV08"
      }
    },
    {
      "cell_type": "code",
      "source": [
        "tuple = (10, 20, 5, 15)\n",
        "minimum_number = min(tuple)\n",
        "print(minimum_number)"
      ],
      "metadata": {
        "colab": {
          "base_uri": "https://localhost:8080/"
        },
        "id": "QGlYnNV8ode0",
        "outputId": "9d7b88c7-e097-473f-e372-6a9d4763f967"
      },
      "execution_count": null,
      "outputs": [
        {
          "output_type": "stream",
          "name": "stdout",
          "text": [
            "5\n"
          ]
        }
      ]
    },
    {
      "cell_type": "markdown",
      "source": [
        "14.. Write a code to find the index of the element \"cat\" in the tuple ('dog', 'cat', 'rabbit')?"
      ],
      "metadata": {
        "id": "u_EA2xgcojMU"
      }
    },
    {
      "cell_type": "code",
      "source": [
        "element = ('dog' , 'cat' , 'rabbit')\n",
        "index = element.index('cat')\n",
        "print(index)"
      ],
      "metadata": {
        "colab": {
          "base_uri": "https://localhost:8080/"
        },
        "id": "KLZzdsLSopoc",
        "outputId": "f1db7b46-06dd-470a-e3bc-34e63aa0baae"
      },
      "execution_count": null,
      "outputs": [
        {
          "output_type": "stream",
          "name": "stdout",
          "text": [
            "1\n"
          ]
        }
      ]
    },
    {
      "cell_type": "markdown",
      "source": [
        "15.Write a code to create a tuple containing three different fruits and check if \"kiwi\" is in it?"
      ],
      "metadata": {
        "id": "gn5Ij_Tvo-F2"
      }
    },
    {
      "cell_type": "code",
      "source": [
        "tuple = ('apple', 'banana', 'strawberry')\n",
        "if 'kiwi' in tuple:\n",
        "    print(\"kiwi is in the tuple\")\n",
        "else:\n",
        "    print(\"kiwi is not in the tuple\")"
      ],
      "metadata": {
        "colab": {
          "base_uri": "https://localhost:8080/"
        },
        "id": "QDrHMp6SpFFs",
        "outputId": "adf0c406-18e3-49ae-895c-079e94d582bb"
      },
      "execution_count": null,
      "outputs": [
        {
          "output_type": "stream",
          "name": "stdout",
          "text": [
            "kiwi is not in the tuple\n"
          ]
        }
      ]
    },
    {
      "cell_type": "markdown",
      "source": [
        "16. Write a code to create a set with the elements 'a', 'b', 'c' and print it?"
      ],
      "metadata": {
        "id": "WQQJJOzOpz_9"
      }
    },
    {
      "cell_type": "code",
      "source": [
        "my_set={\"a\",\"b\",\"c\"}\n",
        "print(my_set)"
      ],
      "metadata": {
        "colab": {
          "base_uri": "https://localhost:8080/"
        },
        "id": "GutIbWLJp6hz",
        "outputId": "028e2072-bbe3-46f0-91f7-e39589365783"
      },
      "execution_count": null,
      "outputs": [
        {
          "output_type": "stream",
          "name": "stdout",
          "text": [
            "{'c', 'a', 'b'}\n"
          ]
        }
      ]
    },
    {
      "cell_type": "markdown",
      "source": [
        "17.Write a code to clear all elements from the set {1, 2, 3, 4, 5}?"
      ],
      "metadata": {
        "id": "ftWMqeDAqeic"
      }
    },
    {
      "cell_type": "code",
      "source": [
        "my_set={1,2,3,4,5}\n",
        "my_set.clear()\n",
        "print(my_set)"
      ],
      "metadata": {
        "colab": {
          "base_uri": "https://localhost:8080/"
        },
        "id": "yJe85tRerQl8",
        "outputId": "fdbe3a29-358f-44b5-e4b1-6aaf2beef749"
      },
      "execution_count": null,
      "outputs": [
        {
          "output_type": "stream",
          "name": "stdout",
          "text": [
            "set()\n"
          ]
        }
      ]
    },
    {
      "cell_type": "markdown",
      "source": [
        "18. Write a code to remove the element 4 from the set {1, 2, 3, 4}?"
      ],
      "metadata": {
        "id": "QS7aCQhfrl1L"
      }
    },
    {
      "cell_type": "code",
      "source": [
        "set={1,2,3,4}\n",
        "set.remove(4)\n",
        "print(set)"
      ],
      "metadata": {
        "colab": {
          "base_uri": "https://localhost:8080/"
        },
        "id": "cKRHneiXrsUU",
        "outputId": "35e7dc09-5339-4baa-a84f-9d82b995de78"
      },
      "execution_count": null,
      "outputs": [
        {
          "output_type": "stream",
          "name": "stdout",
          "text": [
            "{1, 2, 3}\n"
          ]
        }
      ]
    },
    {
      "cell_type": "markdown",
      "source": [
        "19. Write a code to find the union of two sets {1, 2, 3} and {3, 4, 5}?"
      ],
      "metadata": {
        "id": "NqNhDcMQrxcj"
      }
    },
    {
      "cell_type": "code",
      "source": [
        "set1 = {1, 2, 3}\n",
        "set2 = {3, 4, 5}\n",
        "union_set = set1.union(set2)\n",
        "print(union_set)"
      ],
      "metadata": {
        "colab": {
          "base_uri": "https://localhost:8080/"
        },
        "id": "_TSGPGA2r1X0",
        "outputId": "a197cfd6-537e-4032-890c-4eea008b8be4"
      },
      "execution_count": null,
      "outputs": [
        {
          "output_type": "stream",
          "name": "stdout",
          "text": [
            "{1, 2, 3, 4, 5}\n"
          ]
        }
      ]
    },
    {
      "cell_type": "markdown",
      "source": [
        "20. Write a code to find the intersection of two sets {1, 2, 3} and {2, 3, 4}?"
      ],
      "metadata": {
        "id": "80m8jhESr9ps"
      }
    },
    {
      "cell_type": "code",
      "source": [
        "set1={1,2,3}\n",
        "set2={2,3,4}\n",
        "intersection_set=set1.intersection(set2)\n",
        "print(intersection_set)"
      ],
      "metadata": {
        "colab": {
          "base_uri": "https://localhost:8080/"
        },
        "id": "NB62H76YsBy7",
        "outputId": "a219f697-2ada-4fab-a0e3-aa86fbe5eb11"
      },
      "execution_count": null,
      "outputs": [
        {
          "output_type": "stream",
          "name": "stdout",
          "text": [
            "{2, 3}\n"
          ]
        }
      ]
    },
    {
      "cell_type": "markdown",
      "source": [
        "21. Write a code to create a dictionary with the keys \"name\", \"age\", and \"city\", and print it?"
      ],
      "metadata": {
        "id": "Eyfe6ZOisVdk"
      }
    },
    {
      "cell_type": "code",
      "source": [
        "my_dict = {\"name\": \"Ambhruni Joshi\",\n",
        "           \"age\": \"21\",\n",
        "           \"city\": \"Bangalore\"}\n",
        "print(my_dict)"
      ],
      "metadata": {
        "colab": {
          "base_uri": "https://localhost:8080/"
        },
        "id": "mQMwfe0zsk9l",
        "outputId": "f37df360-ec02-4e7f-a0fa-b77203991b07"
      },
      "execution_count": null,
      "outputs": [
        {
          "output_type": "stream",
          "name": "stdout",
          "text": [
            "{'name': 'Ambhruni Joshi', 'age': '21', 'city': 'Bangalore'}\n"
          ]
        }
      ]
    },
    {
      "cell_type": "markdown",
      "source": [
        "22. Write a code to add a new key-value pair \"country\": \"USA\" to the dictionary {'name': 'John', 'age': 25}?"
      ],
      "metadata": {
        "id": "DW83Hyw2s3RN"
      }
    },
    {
      "cell_type": "code",
      "source": [
        "my_dict = {'name': 'John',\n",
        "           'age': 25}\n",
        "my_dict[\"country\"] = \"USA\"\n",
        "print(my_dict)"
      ],
      "metadata": {
        "colab": {
          "base_uri": "https://localhost:8080/"
        },
        "id": "2Qj6YZDls90Y",
        "outputId": "c3b4fba1-afec-4449-fbed-7a4669d248c5"
      },
      "execution_count": null,
      "outputs": [
        {
          "output_type": "stream",
          "name": "stdout",
          "text": [
            "{'name': 'John', 'age': 25, 'country': 'USA'}\n"
          ]
        }
      ]
    },
    {
      "cell_type": "markdown",
      "source": [
        "23. Write a code to access the value associated with the key \"name\" in the dictionary {'name': 'Alice', 'age': 30}?"
      ],
      "metadata": {
        "id": "C29wmMWQtJc7"
      }
    },
    {
      "cell_type": "code",
      "source": [
        "my_dict = {'name': 'Alice',\n",
        "           'age': 30}\n",
        "value = my_dict['name']\n",
        "print(value)"
      ],
      "metadata": {
        "colab": {
          "base_uri": "https://localhost:8080/"
        },
        "id": "dNkguDIqtODc",
        "outputId": "eca4ca56-7625-44cd-c0fa-326790a3de3e"
      },
      "execution_count": null,
      "outputs": [
        {
          "output_type": "stream",
          "name": "stdout",
          "text": [
            "Alice\n"
          ]
        }
      ]
    },
    {
      "cell_type": "markdown",
      "source": [
        "24. Write a code to remove the key \"age\" from the dictionary {'name': 'Bob', 'age': 22, 'city': 'New York'}?"
      ],
      "metadata": {
        "id": "W_kj7ooeyKQB"
      }
    },
    {
      "cell_type": "code",
      "source": [
        "my_dict = {'name': 'Bob',\n",
        "           'age': 22,\n",
        "           'city': 'New York'}\n",
        "del my_dict['age']\n",
        "print(my_dict)"
      ],
      "metadata": {
        "colab": {
          "base_uri": "https://localhost:8080/"
        },
        "id": "XISx_oFbyPFW",
        "outputId": "caae112c-0afc-4429-c499-baf12e98fb7e"
      },
      "execution_count": 1,
      "outputs": [
        {
          "output_type": "stream",
          "name": "stdout",
          "text": [
            "{'name': 'Bob', 'city': 'New York'}\n"
          ]
        }
      ]
    },
    {
      "cell_type": "markdown",
      "source": [
        "25. Write a code to check if the key \"city\" exists in the dictionary {'name': 'Alice', 'city': 'Paris'}?"
      ],
      "metadata": {
        "id": "L9ksQD9fyYb1"
      }
    },
    {
      "cell_type": "code",
      "source": [
        "my_dict = {'name': 'Alice',\n",
        "           'city': 'Paris'}\n",
        "if 'city' in my_dict:\n",
        "    print(\"The key 'city' exists in the dictionary.\")\n",
        "else:\n",
        "    print(\"The key 'city' does not exist in the dictionary.\")"
      ],
      "metadata": {
        "colab": {
          "base_uri": "https://localhost:8080/"
        },
        "id": "68K13QKNymQA",
        "outputId": "023c3843-7245-48bd-8782-4d1c798dbec9"
      },
      "execution_count": 2,
      "outputs": [
        {
          "output_type": "stream",
          "name": "stdout",
          "text": [
            "The key 'city' exists in the dictionary.\n"
          ]
        }
      ]
    },
    {
      "cell_type": "markdown",
      "source": [
        "26. Write a code to create a list, a tuple, and a dictionary, and print them all?"
      ],
      "metadata": {
        "id": "xnBLpeRLyxuw"
      }
    },
    {
      "cell_type": "code",
      "source": [
        "my_list = [1, 2, 3]\n",
        "my_tuple = (4, 5, 6)\n",
        "my_dict = {\"a\": 7,\n",
        "                 \"b\": 8,\n",
        "                 \"c\": 9}\n",
        "\n",
        "print(my_list)\n",
        "print(my_tuple)\n",
        "print(my_dict)"
      ],
      "metadata": {
        "colab": {
          "base_uri": "https://localhost:8080/"
        },
        "id": "qRMAL0Ogy03j",
        "outputId": "f96ca3da-0513-4c62-ce75-891cabe5d28d"
      },
      "execution_count": 3,
      "outputs": [
        {
          "output_type": "stream",
          "name": "stdout",
          "text": [
            "[1, 2, 3]\n",
            "(4, 5, 6)\n",
            "{'a': 7, 'b': 8, 'c': 9}\n"
          ]
        }
      ]
    },
    {
      "cell_type": "markdown",
      "source": [
        "28. Write a code to create a list with strings and print the element at the third index?"
      ],
      "metadata": {
        "id": "lD5fq8wTzbgB"
      }
    },
    {
      "cell_type": "code",
      "source": [
        "my_list = [\"apple\", \"banana\", \"dragon fruit\", \"strawberry\"]\n",
        "print(my_list[3])"
      ],
      "metadata": {
        "colab": {
          "base_uri": "https://localhost:8080/"
        },
        "id": "_Oo3LEqwzees",
        "outputId": "b22ea3b3-7e88-4cc0-b9a6-e20207cdfc00"
      },
      "execution_count": 4,
      "outputs": [
        {
          "output_type": "stream",
          "name": "stdout",
          "text": [
            "strawberry\n"
          ]
        }
      ]
    },
    {
      "cell_type": "markdown",
      "source": [
        "29. Write a code to combine two dictionaries into one and print the result?"
      ],
      "metadata": {
        "id": "EQgljf-vzwSZ"
      }
    },
    {
      "cell_type": "code",
      "source": [
        "dict1 = {\"a\": 1,\n",
        "         \"b\": 2}\n",
        "dict2 = {\"c\": 3,\n",
        "         \"d\": 4}\n",
        "combined_dict = {**dict1, **dict2}\n",
        "print(combined_dict)"
      ],
      "metadata": {
        "colab": {
          "base_uri": "https://localhost:8080/"
        },
        "id": "4Jis1b2azzQQ",
        "outputId": "258551dd-67d1-443b-ee44-50902d81a9b1"
      },
      "execution_count": 5,
      "outputs": [
        {
          "output_type": "stream",
          "name": "stdout",
          "text": [
            "{'a': 1, 'b': 2, 'c': 3, 'd': 4}\n"
          ]
        }
      ]
    },
    {
      "cell_type": "markdown",
      "source": [
        "30. Write a code to convert a list of strings into a set?"
      ],
      "metadata": {
        "id": "eec2M09W0Rks"
      }
    },
    {
      "cell_type": "code",
      "source": [
        "my_list = [\"apple\", \"banana\", \"cherry\", \"apple\", \"banana\"]\n",
        "my_set = set(my_list)\n",
        "print(my_set)"
      ],
      "metadata": {
        "colab": {
          "base_uri": "https://localhost:8080/"
        },
        "id": "0r7Z9jcL0UgB",
        "outputId": "a3bb3a16-cf15-4dc4-d7dd-8fdeaaa3db77"
      },
      "execution_count": 6,
      "outputs": [
        {
          "output_type": "stream",
          "name": "stdout",
          "text": [
            "{'cherry', 'banana', 'apple'}\n"
          ]
        }
      ]
    }
  ]
}